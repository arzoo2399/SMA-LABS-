{
 "cells": [
  {
   "cell_type": "markdown",
   "metadata": {
    "id": "VTury8DjoWI6"
   },
   "source": [
    "# <center>Lab 4. Retriving the page's feed and measuring engagement using Facebook Graph API</center>\n",
    "\n",
    "\n",
    "### 205229103\n",
    "\n",
    "### Arzoo Sah"
   ]
  },
  {
   "cell_type": "markdown",
   "metadata": {
    "id": "b4ksXe7Po1hs"
   },
   "source": [
    "**Log in to your Facebook account and go to https://developers.facebook.com/tools/explorer/ to obtain the ACCESS_TOKEN and access the graph API**"
   ]
  },
  {
   "cell_type": "code",
   "execution_count": 1,
   "metadata": {
    "colab": {
     "base_uri": "https://localhost:8080/"
    },
    "id": "BpLLjvLt9ZQs",
    "outputId": "147d4db4-df80-4f88-91b1-d601125bfce7"
   },
   "outputs": [
    {
     "name": "stdout",
     "output_type": "stream",
     "text": [
      "Requirement already satisfied: facebook-sdk in /usr/local/lib/python3.7/dist-packages (3.1.0)\n",
      "Requirement already satisfied: requests in /usr/local/lib/python3.7/dist-packages (from facebook-sdk) (2.23.0)\n",
      "Requirement already satisfied: certifi>=2017.4.17 in /usr/local/lib/python3.7/dist-packages (from requests->facebook-sdk) (2021.5.30)\n",
      "Requirement already satisfied: idna<3,>=2.5 in /usr/local/lib/python3.7/dist-packages (from requests->facebook-sdk) (2.10)\n",
      "Requirement already satisfied: urllib3!=1.25.0,!=1.25.1,<1.26,>=1.21.1 in /usr/local/lib/python3.7/dist-packages (from requests->facebook-sdk) (1.24.3)\n",
      "Requirement already satisfied: chardet<4,>=3.0.2 in /usr/local/lib/python3.7/dist-packages (from requests->facebook-sdk) (3.0.4)\n"
     ]
    }
   ],
   "source": [
    "!pip3 install facebook-sdk"
   ]
  },
  {
   "cell_type": "code",
   "execution_count": 2,
   "metadata": {
    "id": "bbWxfeGZ9C73"
   },
   "outputs": [],
   "source": [
    "import facebook\n",
    "import requests\n",
    "ACCESS_TOKEN = 'EAAFXL20yzJwBAGcYSctgJCxyGvGZAwgez4khF5klttXM7X6fzxtaacSI352Lwwje9HKDOrHGPvCAkTrZADYZASHqwiyD4wxnGOa1PBKtCRWFAx6eZCKfhghPXWZBR99VMtaIuWVe3vwZAqyqQtLjXX6zGFyeYaXJh9udnuYuATZCUiO3sGjlEK6brPHjjP6LZCBv9Xzkv53fwZByvkzVKUMzXcZAAX5FBZAqxTiHUHoZA06pWFX5DO1JelfkknIm7sPnfYcZD'\n",
    "graph = facebook.GraphAPI(access_token= ACCESS_TOKEN, version='2.12');"
   ]
  },
  {
   "cell_type": "markdown",
   "metadata": {
    "id": "-C0nuGAtpAEh"
   },
   "source": [
    "**Create a facebook page and find the fans associated with it**"
   ]
  },
  {
   "cell_type": "code",
   "execution_count": 3,
   "metadata": {
    "colab": {
     "base_uri": "https://localhost:8080/"
    },
    "id": "9p8NaN9Q9mhw",
    "outputId": "f1288c09-94f6-44ac-a1eb-d73572641330"
   },
   "outputs": [
    {
     "data": {
      "text/plain": [
       "0"
      ]
     },
     "execution_count": 3,
     "metadata": {},
     "output_type": "execute_result"
    }
   ],
   "source": [
    "page_id= '108153398265996';\n",
    "graph.get_object(id=page_id, fields=['fan_count'])['fan_count']"
   ]
  },
  {
   "cell_type": "markdown",
   "metadata": {
    "id": "WpEpSb-0pElK"
   },
   "source": [
    "**Retriving the page's feed**"
   ]
  },
  {
   "cell_type": "markdown",
   "metadata": {
    "id": "AbKl4DY-pIlO"
   },
   "source": [
    "### helper functions for retriving page feed"
   ]
  },
  {
   "cell_type": "code",
   "execution_count": 4,
   "metadata": {
    "id": "BzAJfnYP-Q6C"
   },
   "outputs": [],
   "source": [
    "def retrieve_page_feed(page_id, n_posts):\n",
    "    \n",
    "    \"\"\"Retrieve the first n_posts from a page's feed in reverse chronological order.\"\"\";\n",
    "    feed = graph.get_connections(page_id,'posts')\n",
    "    posts = []\n",
    "    posts.extend(feed['data'])\n",
    "    \n",
    "    while len(posts) < n_posts:\n",
    "        \n",
    "        try:\n",
    "            feed = requests.get(feed[\"paging\"][\"next\"]).json()\n",
    "            posts.extend(feed[\"data\"])\n",
    "        \n",
    "        except KeyError:               # When there are no more posts in the feed, break\n",
    "            print('Reached end of feed')\n",
    "            break\n",
    "    \n",
    "    if len(posts) > n_posts:\n",
    "        posts = posts[:n_posts]\n",
    "    \n",
    "    print('{} items retrieved from feed'.format(len(posts)))\n",
    "    \n",
    "    return posts"
   ]
  },
  {
   "cell_type": "markdown",
   "metadata": {
    "id": "sYEa8jvbpRpa"
   },
   "source": [
    "### helper function for returning the message content of a post"
   ]
  },
  {
   "cell_type": "code",
   "execution_count": 5,
   "metadata": {
    "id": "bp8y46uQC18r"
   },
   "outputs": [],
   "source": [
    "def get_post_message(post):\n",
    "    \n",
    "    try:\n",
    "        message = post['story']\n",
    "        \n",
    "    except KeyError:                             # Post may have 'message' instead of 'story'\n",
    "        pass\n",
    "\n",
    "    try:\n",
    "        message = post['message']\n",
    "        \n",
    "    except KeyError:                                         # Post has neither\n",
    "        message = \"  \";\n",
    "    \n",
    "    return message.replace('\\n',' ')"
   ]
  },
  {
   "cell_type": "code",
   "execution_count": 6,
   "metadata": {
    "colab": {
     "base_uri": "https://localhost:8080/"
    },
    "id": "GXzKIiH6ph3S",
    "outputId": "7ecb6910-270f-4b52-924f-fda81afac12c"
   },
   "outputs": [
    {
     "name": "stdout",
     "output_type": "stream",
     "text": [
      "\n",
      "Reached end of feed\n",
      "0 items retrieved from feed\n"
     ]
    }
   ],
   "source": [
    "id='108153398265996';\n",
    "\n",
    "for artist in [id]:\n",
    "    \n",
    "    print()\n",
    "    feed = retrieve_page_feed(artist, 5)\n",
    "    \n",
    "    for i, post in enumerate(feed):\n",
    "        \n",
    "        message = get_post_message(post)[:50]\n",
    "        print('{0} - {1}...'.format(i+1, message))"
   ]
  },
  {
   "cell_type": "markdown",
   "metadata": {
    "id": "2QtJd1uMppT0"
   },
   "source": [
    "### Measure the response to a post in terms of likes, shares, and comments"
   ]
  },
  {
   "cell_type": "code",
   "execution_count": null,
   "metadata": {
    "colab": {
     "base_uri": "https://localhost:8080/"
    },
    "id": "Mk1zPS2yEJCz",
    "outputId": "1eb7ac3a-1536-4748-d489-78030f820142"
   },
   "outputs": [],
   "source": [
    "def measure_response(post_id):\n",
    "    \n",
    "    '''Returns the number of likes, shares, and comments on a given post as a measure of user engagement.'''\n",
    "    likes = graph.get_object(id=post_id,\n",
    "                           fields=['likes.limit(0).summary(true)'])\\\n",
    "                           ['likes']['summary']['total_count']\n",
    "    \n",
    "    return likes"
   ]
  },
  {
   "cell_type": "code",
   "execution_count": 7,
   "metadata": {
    "colab": {
     "base_uri": "https://localhost:8080/"
    },
    "id": "Mk1zPS2yEJCz",
    "outputId": "1eb7ac3a-1536-4748-d489-78030f820142"
   },
   "outputs": [
    {
     "name": "stdout",
     "output_type": "stream",
     "text": [
      "0\n"
     ]
    }
   ],
   "source": [
    "post_id='me'\n",
    "likes = measure_response(post_id)\n",
    "print(likes)"
   ]
  }
 ],
 "metadata": {
  "colab": {
   "collapsed_sections": [],
   "name": "SMA_LAB_04.ipynb",
   "provenance": []
  },
  "kernelspec": {
   "display_name": "Python 3",
   "language": "python",
   "name": "python3"
  },
  "language_info": {
   "codemirror_mode": {
    "name": "ipython",
    "version": 3
   },
   "file_extension": ".py",
   "mimetype": "text/x-python",
   "name": "python",
   "nbconvert_exporter": "python",
   "pygments_lexer": "ipython3",
   "version": "3.9.1"
  }
 },
 "nbformat": 4,
 "nbformat_minor": 1
}
