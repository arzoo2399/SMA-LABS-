{
 "cells": [
  {
   "cell_type": "markdown",
   "metadata": {},
   "source": [
    "# <center> SMA_LAB_10-Clustering the job titles of LinkedIn Connections using Greedy Heuristic Algorithm </center>"
   ]
  },
  {
   "cell_type": "markdown",
   "metadata": {},
   "source": [
    "### 1.Retrieve the Connections data of your LinkedIn Profile from the SMA Lab 8"
   ]
  },
  {
   "cell_type": "code",
   "execution_count": 1,
   "metadata": {
    "id": "AvDtbUfvbQbS"
   },
   "outputs": [],
   "source": [
    "import requests\n",
    "import string\n",
    "import random"
   ]
  },
  {
   "cell_type": "code",
   "execution_count": 2,
   "metadata": {
    "id": "AvDtbUfvbQbS"
   },
   "outputs": [],
   "source": [
    "CLIENT_ID = '78mdymxokme9re'\n",
    "CLIENT_SECRET = 'dH7WmABAoFp9hMiu'\n",
    "REDIRECT_URI = 'http://localhost'"
   ]
  },
  {
   "cell_type": "code",
   "execution_count": 3,
   "metadata": {
    "colab": {
     "base_uri": "https://localhost:8080/"
    },
    "id": "EIRrVWnibQbT",
    "outputId": "e616924d-4064-45ad-f1dd-04ee42903315"
   },
   "outputs": [
    {
     "name": "stdout",
     "output_type": "stream",
     "text": [
      "https://www.linkedin.com/uas/login?session_redirect=%2Foauth%2Fv2%2Flogin-success%3Fapp_id%3D113884824%26auth_type%3DAC%26flow%3D%257B%2522authorizationType%2522%253A%2522OAUTH2_AUTHORIZATION_CODE%2522%252C%2522redirectUri%2522%253A%2522http%253A%252F%252Flocalhost%2522%252C%2522currentStage%2522%253A%2522LOGIN_SUCCESS%2522%252C%2522currentSubStage%2522%253A0%252C%2522authFlowName%2522%253A%2522generic-permission-list%2522%252C%2522appId%2522%253A113884824%252C%2522scope%2522%253A%2522r_liteprofile%252Cr_emailaddress%252Cw_member_social%2522%252C%2522creationTime%2522%253A1632503007684%252C%2522state%2522%253A%2522ahlwduxbvbtnvbqypgnehgdr%2522%257D&fromSignIn=1&trk=oauth&cancel_redirect=%2Foauth%2Fv2%2Flogin-cancel%3Fapp_id%3D113884824%26auth_type%3DAC%26flow%3D%257B%2522authorizationType%2522%253A%2522OAUTH2_AUTHORIZATION_CODE%2522%252C%2522redirectUri%2522%253A%2522http%253A%252F%252Flocalhost%2522%252C%2522currentStage%2522%253A%2522LOGIN_SUCCESS%2522%252C%2522currentSubStage%2522%253A0%252C%2522authFlowName%2522%253A%2522generic-permission-list%2522%252C%2522appId%2522%253A113884824%252C%2522scope%2522%253A%2522r_liteprofile%252Cr_emailaddress%252Cw_member_social%2522%252C%2522creationTime%2522%253A1632503007684%252C%2522state%2522%253A%2522ahlwduxbvbtnvbqypgnehgdr%2522%257D\n"
     ]
    }
   ],
   "source": [
    "# Generate a random string to protect against cross-site request forgery\n",
    "letters = string.ascii_lowercase\n",
    "CSRF_TOKEN = ''.join(random.choice(letters) for i in range(24))\n",
    "\n",
    "auth_params = {'response_type': 'code',\n",
    "               'client_id': CLIENT_ID,\n",
    "               'redirect_uri': REDIRECT_URI,\n",
    "               'state': CSRF_TOKEN,\n",
    "               'scope': 'r_liteprofile,r_emailaddress,w_member_social'}\n",
    "\n",
    "html = requests.get(\"https://www.linkedin.com/oauth/v2/authorization\",\n",
    "                    params = auth_params)\n",
    "\n",
    "# Print the link to the approval page\n",
    "print(html.url)"
   ]
  },
  {
   "cell_type": "code",
   "execution_count": 6,
   "metadata": {
    "colab": {
     "base_uri": "https://localhost:8080/"
    },
    "id": "zmvxUPK_bQbV",
    "outputId": "c78f1fb1-46b0-4181-8d13-79f594031ce0",
    "scrolled": true
   },
   "outputs": [
    {
     "name": "stdout",
     "output_type": "stream",
     "text": [
      "Access Token: AQWARiJrNJR0yyNSRv46cI3VZgQDfWLGk4-IgIUTAuUQjab-g_izzDtA0AAlpPHlxUxI9V7h4T3P_gPilAF33uq__zGsmobCGMS_Owj2hWA1SXQPcHOwOjF48JSqj-A-k5CL7UNKR_K0aCMdWg_ksG9Lt0x23nglhXT24r9LrPDByMSU7_XMQxLLsT-rTfh2sbb4J-kebRDjESXN6h85Pkm4eevuVycvqcgFcqggYW9_NZ_UYm8D5Bc5q77DSkh1pRUwVYascgCNSg_PyE3mLD_FujUdVZY-tNdtivFKVe_iJ9VCE-UsFG5qzz4kIGH3ZGd_sbVJTMyfsc1_VqJhjdEvzLEgrA\n",
      "Expires in (seconds): 5183999\n"
     ]
    }
   ],
   "source": [
    "AUTH_CODE ='AQS13UwH-n1wLMBlu62D8K10n_Aogvp2dArpKq3ytZMN-2DP5hDKrErE0bfpMmVjq4rRgtfHVvNx5g1nwek5TjqHYZjJuEuK2V2WJbWXqAosdeHgAwjwyuWRN0HMQH2xoKQHPCSr7BrkkavJNwGjjE5V6w6c2TfdiVKkmJFoaFxNLEcTPf9uXa27ORlscmlZeoYSRf4WC7pUbBR3aAM'\n",
    " \n",
    "\n",
    "ACCESS_TOKEN_URL = 'https://www.linkedin.com/oauth/v2/accessToken'\n",
    "\n",
    "qd = {'grant_type': 'authorization_code',\n",
    "      'code': AUTH_CODE,\n",
    "'redirect_uri': REDIRECT_URI,\n",
    "      'client_id': CLIENT_ID,\n",
    "      'client_secret': CLIENT_SECRET}\n",
    "\n",
    "response = requests.post(ACCESS_TOKEN_URL, data=qd, timeout=60)\n",
    "\n",
    "response = response.json()\n",
    "\n",
    "access_token = response['access_token']\n",
    "\n",
    "print (\"Access Token:\", access_token)\n",
    "print (\"Expires in (seconds):\", response['expires_in'])\n",
    "\n"
   ]
  },
  {
   "cell_type": "code",
   "execution_count": 7,
   "metadata": {
    "colab": {
     "base_uri": "https://localhost:8080/"
    },
    "id": "A9Rjm5yAbQbV",
    "outputId": "cf3915fa-3bea-4d8d-cc73-f8ff37a404d9"
   },
   "outputs": [
    {
     "name": "stdout",
     "output_type": "stream",
     "text": [
      "{\n",
      " \"localizedLastName\": \"Sah\",\n",
      " \"id\": \"7hgStloEup\",\n",
      " \"localizedFirstName\": \"Arzoo\"\n",
      "}\n"
     ]
    }
   ],
   "source": [
    "import json\n",
    "params = {'oauth2_access_token': access_token,\n",
    "          'fields': [\"localizedFirstName,localizedLastName,id\"]}\n",
    "response = requests.get('https://api.linkedin.com/v2/me', params = params)\n",
    "print(json.dumps(response.json(), indent=1))"
   ]
  },
  {
   "cell_type": "code",
   "execution_count": 8,
   "metadata": {
    "colab": {
     "base_uri": "https://localhost:8080/"
    },
    "id": "PARJjbowbQbW",
    "outputId": "aa821bea-c92a-40b8-def1-ccbaf3540bc0"
   },
   "outputs": [
    {
     "name": "stdout",
     "output_type": "stream",
     "text": [
      "{\n",
      " \"lastName\": {\n",
      "  \"preferredLocale\": {\n",
      "   \"country\": \"US\",\n",
      "   \"language\": \"en\"\n",
      "  }\n",
      " }\n",
      "}\n"
     ]
    }
   ],
   "source": [
    "import json\n",
    "\n",
    "params = {'oauth2_access_token': access_token,\n",
    "          'fields': ['lastName:(preferredLocale:(country,language))']}\n",
    "response = requests.get('https://api.linkedin.com/v2/me', params = params)\n",
    "\n",
    "print(json.dumps(response.json(), indent=1))"
   ]
  },
  {
   "cell_type": "code",
   "execution_count": 9,
   "metadata": {
    "id": "itaOHv3SbQbX"
   },
   "outputs": [],
   "source": [
    "import os\n",
    "import csv\n",
    "\n",
    "# Point this to your 'Connections.csv' file.\n",
    "CSV_FILE = ('Connections.csv')\n",
    "\n",
    "csvReader = csv.DictReader(open(CSV_FILE), delimiter=',', quotechar='\"')\n",
    "contacts = [row for row in csvReader]"
   ]
  },
  {
   "cell_type": "code",
   "execution_count": 10,
   "metadata": {
    "colab": {
     "base_uri": "https://localhost:8080/"
    },
    "id": "rdNBrWYpbQbX",
    "outputId": "dd5d8080-b5a7-420c-eff4-80da190abbbf"
   },
   "outputs": [
    {
     "data": {
      "text/plain": [
       "[{'First Name': 'DIVYAA ',\n",
       "  'Last Name': 'LAKSHMI AS',\n",
       "  'Email Address': '',\n",
       "  'Company': '',\n",
       "  'Position': '',\n",
       "  'Connected On': '16-Sep-21'},\n",
       " {'First Name': 'LALITH',\n",
       "  'Last Name': 'AKASH',\n",
       "  'Email Address': '',\n",
       "  'Company': '',\n",
       "  'Position': '',\n",
       "  'Connected On': '11-Sep-21'},\n",
       " {'First Name': 'Frastlin',\n",
       "  'Last Name': 'J',\n",
       "  'Email Address': '',\n",
       "  'Company': '',\n",
       "  'Position': '',\n",
       "  'Connected On': '02-Sep-21'},\n",
       " {'First Name': 'BHARATH',\n",
       "  'Last Name': 'S',\n",
       "  'Email Address': '',\n",
       "  'Company': '',\n",
       "  'Position': '',\n",
       "  'Connected On': '25-Aug-21'},\n",
       " {'First Name': 'Samir',\n",
       "  'Last Name': 'Mendhe',\n",
       "  'Email Address': '',\n",
       "  'Company': 'ELEATION',\n",
       "  'Position': 'Project Intern In Design',\n",
       "  'Connected On': '24-Aug-21'},\n",
       " {'First Name': 'HARIKESH',\n",
       "  'Last Name': '.',\n",
       "  'Email Address': '',\n",
       "  'Company': 'Chegg Inc.',\n",
       "  'Position': 'Q&A Expert',\n",
       "  'Connected On': '09-Aug-21'},\n",
       " {'First Name': 'Rajamalliga',\n",
       "  'Last Name': 'Sundar',\n",
       "  'Email Address': '',\n",
       "  'Company': 'AASHMAN FOUNDATION',\n",
       "  'Position': 'Human Resources Intern',\n",
       "  'Connected On': '08-Aug-21'},\n",
       " {'First Name': 'Malleeswari',\n",
       "  'Last Name': 'G',\n",
       "  'Email Address': '',\n",
       "  'Company': 'LetsGrowMore',\n",
       "  'Position': 'Data Science Intern',\n",
       "  'Connected On': '21-Jul-21'},\n",
       " {'First Name': 'Maheshvaran',\n",
       "  'Last Name': 'S',\n",
       "  'Email Address': '',\n",
       "  'Company': '',\n",
       "  'Position': '',\n",
       "  'Connected On': '18-Jul-21'},\n",
       " {'First Name': 'Keerthana',\n",
       "  'Last Name': 'S',\n",
       "  'Email Address': '',\n",
       "  'Company': '',\n",
       "  'Position': '',\n",
       "  'Connected On': '10-Jul-21'},\n",
       " {'First Name': 'Mahalakshmi',\n",
       "  'Last Name': 'S',\n",
       "  'Email Address': '',\n",
       "  'Company': 'The Sparks Foundation',\n",
       "  'Position': 'Data Science and Bussiness Analytics intern at  The Sparks Foundation ',\n",
       "  'Connected On': '20-Jun-21'},\n",
       " {'First Name': 'Howsik',\n",
       "  'Last Name': 'T',\n",
       "  'Email Address': '',\n",
       "  'Company': 'Digiit Business Services',\n",
       "  'Position': 'Graphic Web Designer',\n",
       "  'Connected On': '20-Jun-21'},\n",
       " {'First Name': 'Deepak',\n",
       "  'Last Name': 'R',\n",
       "  'Email Address': '',\n",
       "  'Company': 'The Sparks Foundation',\n",
       "  'Position': ' Data Science and Business Analystics Intern ',\n",
       "  'Connected On': '20-Jun-21'},\n",
       " {'First Name': 'Viveka',\n",
       "  'Last Name': 'Balaji',\n",
       "  'Email Address': '',\n",
       "  'Company': 'The Sparks Foundation',\n",
       "  'Position': 'Data science and business analytics intern',\n",
       "  'Connected On': '20-Jun-21'},\n",
       " {'First Name': 'Mohamed',\n",
       "  'Last Name': 'Sahim',\n",
       "  'Email Address': '',\n",
       "  'Company': 'The Sparks Foundation',\n",
       "  'Position': 'Data Science and Business Analytics',\n",
       "  'Connected On': '15-Jun-21'},\n",
       " {'First Name': 'Hariharasudhan',\n",
       "  'Last Name': 'D',\n",
       "  'Email Address': '',\n",
       "  'Company': '',\n",
       "  'Position': '',\n",
       "  'Connected On': '04-Jun-21'},\n",
       " {'First Name': 'Reshma',\n",
       "  'Last Name': 'R S',\n",
       "  'Email Address': '',\n",
       "  'Company': 'The Sparks Foundation',\n",
       "  'Position': 'Data Science and Business Analytics Intern',\n",
       "  'Connected On': '04-Jun-21'},\n",
       " {'First Name': 'Bhargavi',\n",
       "  'Last Name': 'Srinivasan',\n",
       "  'Email Address': '',\n",
       "  'Company': '',\n",
       "  'Position': '',\n",
       "  'Connected On': '16-Apr-21'},\n",
       " {'First Name': 'Keerthana',\n",
       "  'Last Name': 'V',\n",
       "  'Email Address': '',\n",
       "  'Company': 'PlaceXP VITC',\n",
       "  'Position': 'Content Writer',\n",
       "  'Connected On': '27-Jan-21'},\n",
       " {'First Name': 'Ashish',\n",
       "  'Last Name': 'Shah',\n",
       "  'Email Address': '',\n",
       "  'Company': 'Radite Energy',\n",
       "  'Position': 'Design Engineer',\n",
       "  'Connected On': '02-Jan-21'}]"
      ]
     },
     "execution_count": 10,
     "metadata": {},
     "output_type": "execute_result"
    }
   ],
   "source": [
    "contacts"
   ]
  },
  {
   "cell_type": "code",
   "execution_count": 11,
   "metadata": {
    "id": "uubMxYIObQbY"
   },
   "outputs": [],
   "source": [
    "import pandas as pd "
   ]
  },
  {
   "cell_type": "code",
   "execution_count": 12,
   "metadata": {
    "id": "vKqOXTAGbQbZ"
   },
   "outputs": [],
   "source": [
    "linkedin = pd.read_csv(\"Connections.csv\")"
   ]
  },
  {
   "cell_type": "code",
   "execution_count": 13,
   "metadata": {
    "colab": {
     "base_uri": "https://localhost:8080/",
     "height": 427
    },
    "id": "jdCgu6usbQbZ",
    "outputId": "0e838619-f6a4-48d7-fecc-4ede9256188c"
   },
   "outputs": [
    {
     "data": {
      "text/html": [
       "<div>\n",
       "<style scoped>\n",
       "    .dataframe tbody tr th:only-of-type {\n",
       "        vertical-align: middle;\n",
       "    }\n",
       "\n",
       "    .dataframe tbody tr th {\n",
       "        vertical-align: top;\n",
       "    }\n",
       "\n",
       "    .dataframe thead th {\n",
       "        text-align: right;\n",
       "    }\n",
       "</style>\n",
       "<table border=\"1\" class=\"dataframe\">\n",
       "  <thead>\n",
       "    <tr style=\"text-align: right;\">\n",
       "      <th></th>\n",
       "      <th>First Name</th>\n",
       "      <th>Last Name</th>\n",
       "      <th>Email Address</th>\n",
       "      <th>Company</th>\n",
       "      <th>Position</th>\n",
       "      <th>Connected On</th>\n",
       "    </tr>\n",
       "  </thead>\n",
       "  <tbody>\n",
       "    <tr>\n",
       "      <th>0</th>\n",
       "      <td>DIVYAA</td>\n",
       "      <td>LAKSHMI AS</td>\n",
       "      <td>NaN</td>\n",
       "      <td>NaN</td>\n",
       "      <td>NaN</td>\n",
       "      <td>16-Sep-21</td>\n",
       "    </tr>\n",
       "    <tr>\n",
       "      <th>1</th>\n",
       "      <td>LALITH</td>\n",
       "      <td>AKASH</td>\n",
       "      <td>NaN</td>\n",
       "      <td>NaN</td>\n",
       "      <td>NaN</td>\n",
       "      <td>11-Sep-21</td>\n",
       "    </tr>\n",
       "    <tr>\n",
       "      <th>2</th>\n",
       "      <td>Frastlin</td>\n",
       "      <td>J</td>\n",
       "      <td>NaN</td>\n",
       "      <td>NaN</td>\n",
       "      <td>NaN</td>\n",
       "      <td>02-Sep-21</td>\n",
       "    </tr>\n",
       "    <tr>\n",
       "      <th>3</th>\n",
       "      <td>BHARATH</td>\n",
       "      <td>S</td>\n",
       "      <td>NaN</td>\n",
       "      <td>NaN</td>\n",
       "      <td>NaN</td>\n",
       "      <td>25-Aug-21</td>\n",
       "    </tr>\n",
       "    <tr>\n",
       "      <th>4</th>\n",
       "      <td>Samir</td>\n",
       "      <td>Mendhe</td>\n",
       "      <td>NaN</td>\n",
       "      <td>ELEATION</td>\n",
       "      <td>Project Intern In Design</td>\n",
       "      <td>24-Aug-21</td>\n",
       "    </tr>\n",
       "    <tr>\n",
       "      <th>5</th>\n",
       "      <td>HARIKESH</td>\n",
       "      <td>.</td>\n",
       "      <td>NaN</td>\n",
       "      <td>Chegg Inc.</td>\n",
       "      <td>Q&amp;A Expert</td>\n",
       "      <td>09-Aug-21</td>\n",
       "    </tr>\n",
       "    <tr>\n",
       "      <th>6</th>\n",
       "      <td>Rajamalliga</td>\n",
       "      <td>Sundar</td>\n",
       "      <td>NaN</td>\n",
       "      <td>AASHMAN FOUNDATION</td>\n",
       "      <td>Human Resources Intern</td>\n",
       "      <td>08-Aug-21</td>\n",
       "    </tr>\n",
       "    <tr>\n",
       "      <th>7</th>\n",
       "      <td>Malleeswari</td>\n",
       "      <td>G</td>\n",
       "      <td>NaN</td>\n",
       "      <td>LetsGrowMore</td>\n",
       "      <td>Data Science Intern</td>\n",
       "      <td>21-Jul-21</td>\n",
       "    </tr>\n",
       "    <tr>\n",
       "      <th>8</th>\n",
       "      <td>Maheshvaran</td>\n",
       "      <td>S</td>\n",
       "      <td>NaN</td>\n",
       "      <td>NaN</td>\n",
       "      <td>NaN</td>\n",
       "      <td>18-Jul-21</td>\n",
       "    </tr>\n",
       "    <tr>\n",
       "      <th>9</th>\n",
       "      <td>Keerthana</td>\n",
       "      <td>S</td>\n",
       "      <td>NaN</td>\n",
       "      <td>NaN</td>\n",
       "      <td>NaN</td>\n",
       "      <td>10-Jul-21</td>\n",
       "    </tr>\n",
       "  </tbody>\n",
       "</table>\n",
       "</div>"
      ],
      "text/plain": [
       "    First Name   Last Name  Email Address             Company  \\\n",
       "0      DIVYAA   LAKSHMI AS            NaN                 NaN   \n",
       "1       LALITH       AKASH            NaN                 NaN   \n",
       "2     Frastlin           J            NaN                 NaN   \n",
       "3      BHARATH           S            NaN                 NaN   \n",
       "4        Samir      Mendhe            NaN            ELEATION   \n",
       "5     HARIKESH           .            NaN          Chegg Inc.   \n",
       "6  Rajamalliga      Sundar            NaN  AASHMAN FOUNDATION   \n",
       "7  Malleeswari           G            NaN        LetsGrowMore   \n",
       "8  Maheshvaran           S            NaN                 NaN   \n",
       "9    Keerthana           S            NaN                 NaN   \n",
       "\n",
       "                   Position Connected On  \n",
       "0                       NaN    16-Sep-21  \n",
       "1                       NaN    11-Sep-21  \n",
       "2                       NaN    02-Sep-21  \n",
       "3                       NaN    25-Aug-21  \n",
       "4  Project Intern In Design    24-Aug-21  \n",
       "5                Q&A Expert    09-Aug-21  \n",
       "6    Human Resources Intern    08-Aug-21  \n",
       "7       Data Science Intern    21-Jul-21  \n",
       "8                       NaN    18-Jul-21  \n",
       "9                       NaN    10-Jul-21  "
      ]
     },
     "execution_count": 13,
     "metadata": {},
     "output_type": "execute_result"
    }
   ],
   "source": [
    "linkedin.head(10)"
   ]
  },
  {
   "cell_type": "markdown",
   "metadata": {},
   "source": [
    "### 2.Transform the titles by normalising it to known forms"
   ]
  },
  {
   "cell_type": "code",
   "execution_count": 14,
   "metadata": {
    "colab": {
     "base_uri": "https://localhost:8080/"
    },
    "id": "oFo7leESbQba",
    "outputId": "8bc82908-62d6-4d26-a240-4555e7c9cdf1"
   },
   "outputs": [
    {
     "name": "stdout",
     "output_type": "stream",
     "text": [
      "Requirement already satisfied: prettytable in c:\\users\\arzoo sah\\anaconda3\\envs\\notebook\\lib\\site-packages (2.2.0)\n",
      "Requirement already satisfied: wcwidth in c:\\users\\arzoo sah\\anaconda3\\envs\\notebook\\lib\\site-packages (from prettytable) (0.2.5)\n"
     ]
    }
   ],
   "source": [
    "!pip install prettytable"
   ]
  },
  {
   "cell_type": "code",
   "execution_count": 15,
   "metadata": {
    "colab": {
     "base_uri": "https://localhost:8080/"
    },
    "id": "LN79-kXpbQba",
    "outputId": "a11c2a27-8e39-4715-e6b1-f22b450a9e86"
   },
   "outputs": [
    {
     "name": "stdout",
     "output_type": "stream",
     "text": [
      "+--------------------------+------+\n",
      "| Company                  | Freq |\n",
      "+--------------------------+------+\n",
      "| The Sparks Foundation    | 5    |\n",
      "| ELEATION                 | 1    |\n",
      "| Chegg                    | 1    |\n",
      "| AASHMAN FOUNDATION       | 1    |\n",
      "| LetsGrowMore             | 1    |\n",
      "| Digiit Business Services | 1    |\n",
      "| PlaceXP VITC             | 1    |\n",
      "| Radite Energy            | 1    |\n",
      "+--------------------------+------+\n"
     ]
    }
   ],
   "source": [
    "from prettytable import PrettyTable # pip install prettytable\n",
    "from collections import Counter\n",
    "from operator import itemgetter\n",
    "\n",
    "# Define a set of transforms that converts the first item\n",
    "# to the second item. Here, we're simply handling some\n",
    "# commonly known abbreviations, stripping off common suffixes,\n",
    "# etc.\n",
    "\n",
    "transforms = [(', Inc.', ''), (', Inc', ''), (', LLC', ''), (', LLP', ''),\n",
    "               (' LLC', ''), (' Inc.', ''), (' Inc', '')]\n",
    "\n",
    "companies = [c['Company'].strip() for c in contacts if c['Company'].strip() != '']\n",
    "\n",
    "for i, _ in enumerate(companies):\n",
    "    for transform in transforms:\n",
    "        companies[i] = companies[i].replace(*transform)\n",
    "\n",
    "pt = PrettyTable(field_names=['Company', 'Freq'])\n",
    "pt.align = 'l'\n",
    "c = Counter(companies)\n",
    "\n",
    "[pt.add_row([company, freq]) for (company, freq) in sorted(c.items(), key=itemgetter(1), reverse=True) if freq > 0]\n",
    "\n",
    "print(pt)"
   ]
  },
  {
   "cell_type": "code",
   "execution_count": 16,
   "metadata": {
    "colab": {
     "base_uri": "https://localhost:8080/"
    },
    "id": "7YAKROpjbQbb",
    "outputId": "3dffa861-d9fc-45e3-b364-0bd85a7eb3a5"
   },
   "outputs": [
    {
     "name": "stdout",
     "output_type": "stream",
     "text": [
      "+-----------------------------------------------------------------------+------+\n",
      "| Job Title                                                             | Freq |\n",
      "+-----------------------------------------------------------------------+------+\n",
      "| Project Intern In Design                                              | 1    |\n",
      "| Q&A Expert                                                            | 1    |\n",
      "| Human Resources Intern                                                | 1    |\n",
      "| Data Science Intern                                                   | 1    |\n",
      "| Data Science and Bussiness Analytics intern at  The Sparks Foundation | 1    |\n",
      "| Graphic Web Designer                                                  | 1    |\n",
      "| Data Science and Business Analystics Intern                           | 1    |\n",
      "| Data science and business analytics intern                            | 1    |\n",
      "| Data Science and Business Analytics                                   | 1    |\n",
      "| Data Science and Business Analytics Intern                            | 1    |\n",
      "| Content Writer                                                        | 1    |\n",
      "| Design Engineer                                                       | 1    |\n",
      "+-----------------------------------------------------------------------+------+\n",
      "+-----------+------+\n",
      "| Token     | Freq |\n",
      "+-----------+------+\n",
      "| Data      | 6    |\n",
      "| Intern    | 5    |\n",
      "| Science   | 5    |\n",
      "| and       | 5    |\n",
      "| Analytics | 3    |\n",
      "| Business  | 3    |\n",
      "| Design    | 2    |\n",
      "| intern    | 2    |\n",
      "+-----------+------+\n"
     ]
    }
   ],
   "source": [
    "transforms = [\n",
    "('Sr.', 'Senior'),\n",
    "('Sr', 'Senior'),\n",
    "('Jr.', 'Junior'),\n",
    "('Jr', 'Junior'),\n",
    "('CEO', 'Chief Executive Officer'),\n",
    "('COO', 'Chief Operating Officer'),\n",
    "('CTO', 'Chief Technology Officer'),\n",
    "('CFO', 'Chief Finance Officer'),\n",
    "('VP', 'Vice President')]\n",
    "\n",
    "# Read in a list of titles and split apart\n",
    "# any combined titles like \"President/CEO.\"\n",
    "# Other variations could be handled as well, such\n",
    "# as \"President & CEO\", \"President and CEO\", etc.\n",
    "\n",
    "titles = []\n",
    "for contact in contacts:\n",
    "    titles.extend([t.strip() for t in contact['Position'].split('/')\n",
    "if contact['Position'].strip() != ''])\n",
    "\n",
    "# Replace common/known abbreviations\n",
    "\n",
    "for i, _ in enumerate(titles):\n",
    "    for transform in transforms:\n",
    "        titles[i] = titles[i].replace(*transform)\n",
    "\n",
    "# Print out a table of titles sorted by frequency\n",
    "\n",
    "ptj = PrettyTable(field_names=['Job Title', 'Freq'])\n",
    "ptj.align = 'l'\n",
    "c = Counter(titles)\n",
    "[ptj.add_row([title, freq])\n",
    "for (title, freq) in sorted(c.items(), key=itemgetter(1), reverse=True)\n",
    "if freq > 0]\n",
    "print(ptj)\n",
    "\n",
    "# Print out a table of tokens sorted by frequency\n",
    "\n",
    "tokens = []\n",
    "for title in titles:\n",
    "    tokens.extend([t.strip(',') for t in title.split()])\n",
    "ptt = PrettyTable(field_names=['Token', 'Freq'])\n",
    "ptt.align = 'l'\n",
    "c = Counter(tokens)\n",
    "[ptt.add_row([token, freq])\n",
    "for (token, freq) in sorted(c.items(), key=itemgetter(1), reverse=True)\n",
    "  if freq > 1 and len(token) > 1]\n",
    "print(ptt)"
   ]
  },
  {
   "cell_type": "code",
   "execution_count": 17,
   "metadata": {
    "colab": {
     "base_uri": "https://localhost:8080/"
    },
    "id": "JtBsjTfGeHZV",
    "outputId": "4b5cd559-e5e6-444b-f917-fdbef2405c81"
   },
   "outputs": [
    {
     "name": "stdout",
     "output_type": "stream",
     "text": [
      "+--------------------------+------+\n",
      "| Company                  | Freq |\n",
      "+--------------------------+------+\n",
      "| The Sparks Foundation    | 5    |\n",
      "| ELEATION                 | 1    |\n",
      "| Chegg                    | 1    |\n",
      "| AASHMAN FOUNDATION       | 1    |\n",
      "| LetsGrowMore             | 1    |\n",
      "| Digiit Business Services | 1    |\n",
      "| PlaceXP VITC             | 1    |\n",
      "| Radite Energy            | 1    |\n",
      "+--------------------------+------+\n"
     ]
    }
   ],
   "source": [
    "import os\n",
    "import csv\n",
    "from collections import Counter\n",
    "from operator import itemgetter\n",
    "from prettytable import PrettyTable\n",
    "\n",
    "# XXX: Place your \"Outlook CSV\" formatted file of connections from \n",
    "# http://www.linkedin.com/people/export-settings at the following\n",
    "# location: resources/ch03-linkedin/my_connections.csv\n",
    "\n",
    "CSV_FILE = ('Connections.csv')\n",
    "\n",
    "# Define a set of transforms that converts the first item\n",
    "# to the second item. Here, we're simply handling some\n",
    "# commonly known abbreviations, stripping off common suffixes, \n",
    "# etc.\n",
    "\n",
    "transforms = [(', Inc.', ''), (', Inc', ''), (', LLC', ''), (', LLP', ''),\n",
    "               (' LLC', ''), (' Inc.', ''), (' Inc', '')]\n",
    "\n",
    "csvReader = csv.DictReader(open(CSV_FILE), delimiter=',', quotechar='\"')\n",
    "contacts = [row for row in csvReader]\n",
    "companies = [c['Company'].strip() for c in contacts if c['Company'].strip() != '']\n",
    "\n",
    "for i, _ in enumerate(companies):\n",
    "    for transform in transforms:\n",
    "        companies[i] = companies[i].replace(*transform)\n",
    "\n",
    "pt = PrettyTable(field_names=['Company', 'Freq'])\n",
    "pt.align = 'l'\n",
    "c = Counter(companies)\n",
    "[pt.add_row([company, freq]) \n",
    " for (company, freq) in sorted(c.items(), key=itemgetter(1), reverse=True) \n",
    "     if freq > 0]\n",
    "print(pt)"
   ]
  },
  {
   "cell_type": "markdown",
   "metadata": {},
   "source": [
    "### 4. Find Jaccard distance between two titles"
   ]
  },
  {
   "cell_type": "code",
   "execution_count": 18,
   "metadata": {
    "colab": {
     "base_uri": "https://localhost:8080/"
    },
    "id": "Iy7g2_hw_6Gr",
    "outputId": "14b6ae66-fcbf-4fe9-ee10-3f91b0aed6d6"
   },
   "outputs": [
    {
     "name": "stdout",
     "output_type": "stream",
     "text": [
      "[(None, 'Chief'), ('Chief', 'Executive'), ('Executive', 'Officer'), ('Officer', None)]\n",
      "[(None, 'Chief'), ('Chief', 'Technology'), ('Technology', 'Officer'), ('Officer', None)]\n",
      "2\n"
     ]
    }
   ],
   "source": [
    "from nltk.util import bigrams\n",
    "ceo_bigrams = list(bigrams(\"Chief Executive Officer\".split(), pad_left=True, pad_right=True))\n",
    "cto_bigrams = list(bigrams(\"Chief Technology Officer\".split(), pad_left=True, pad_right=True))\n",
    "print(ceo_bigrams)\n",
    "print(cto_bigrams)\n",
    "print(len(set(ceo_bigrams).intersection(set(cto_bigrams))))"
   ]
  },
  {
   "cell_type": "markdown",
   "metadata": {},
   "source": [
    "### 5. Calculate the distance and similarity between 2 titles"
   ]
  },
  {
   "cell_type": "code",
   "execution_count": 19,
   "metadata": {
    "colab": {
     "base_uri": "https://localhost:8080/"
    },
    "id": "Y6Z_DTc6AOUu",
    "outputId": "8acdd908-bb4d-41a8-e822-81424d7fc191"
   },
   "outputs": [
    {
     "name": "stdout",
     "output_type": "stream",
     "text": [
      "['Chief', 'Executive', 'Officer']\n",
      "['Chief', 'Technology', 'Officer']\n",
      "\n",
      "Intersection:\n",
      "{'Officer', 'Chief'}\n",
      "\n",
      "Union:\n",
      "{'Executive', 'Chief', 'Technology', 'Officer'}\n",
      "\n",
      "Similarity: 0.5\n",
      "Distance: 0.5\n"
     ]
    }
   ],
   "source": [
    "from nltk.metrics.distance import jaccard_distance # pip install nltk\n",
    "\n",
    "job_title_1 = 'Chief Executive Officer'.split()\n",
    "job_title_2 = 'Chief Technology Officer'.split()\n",
    "\n",
    "print(job_title_1)\n",
    "print(job_title_2)\n",
    "print()\n",
    "\n",
    "print('Intersection:')\n",
    "intersection = set(job_title_1).intersection(set(job_title_2))\n",
    "print(intersection)\n",
    "print()\n",
    "\n",
    "print('Union:')\n",
    "union = set(job_title_1).union(set(job_title_2))\n",
    "print(union)\n",
    "print()\n",
    "\n",
    "print('Similarity:', len(intersection) / len(union))\n",
    "print('Distance:', jaccard_distance(set(job_title_1), set(job_title_2)))\n"
   ]
  },
  {
   "cell_type": "markdown",
   "metadata": {
    "colab": {
     "base_uri": "https://localhost:8080/"
    },
    "id": "21823Hbec4ZZ",
    "outputId": "e7a5e320-cc27-4f8c-e4be-b66f061f3ff9"
   },
   "source": [
    "### 6. Apply the above distance and similarity measures to the job titles and find clusters"
   ]
  },
  {
   "cell_type": "code",
   "execution_count": 20,
   "metadata": {
    "colab": {
     "base_uri": "https://localhost:8080/"
    },
    "id": "UkvtdFX4bz_q",
    "outputId": "4a8826b3-5643-4c03-a5d4-706a46acb292"
   },
   "outputs": [
    {
     "name": "stdout",
     "output_type": "stream",
     "text": [
      "Requirement already satisfied: cluster in c:\\users\\arzoo sah\\anaconda3\\envs\\notebook\\lib\\site-packages (1.4.1.post3)\n"
     ]
    }
   ],
   "source": [
    "!pip install cluster"
   ]
  },
  {
   "cell_type": "code",
   "execution_count": 21,
   "metadata": {
    "colab": {
     "base_uri": "https://localhost:8080/",
     "height": 231
    },
    "id": "2B5vmUabAhBA",
    "outputId": "336f7f33-4d9d-43c8-c762-35f4333cfae3"
   },
   "outputs": [],
   "source": [
    "import os\n",
    "import csv\n",
    "from nltk.metrics.distance import jaccard_distance\n",
    "\n",
    "CSV_FILE = (\"Connections.csv\")\n",
    "\n",
    "DISTANCE_THRESHOLD = 0.5\n",
    "DISTANCE = jaccard_distance"
   ]
  },
  {
   "cell_type": "code",
   "execution_count": 22,
   "metadata": {
    "colab": {
     "base_uri": "https://localhost:8080/",
     "height": 231
    },
    "id": "2B5vmUabAhBA",
    "outputId": "336f7f33-4d9d-43c8-c762-35f4333cfae3"
   },
   "outputs": [],
   "source": [
    "def cluster_contacts_by_title(csv_file):\n",
    "\n",
    "    transforms = [\n",
    "        ('Sr.', 'Senior'),\n",
    "        ('Sr', 'Senior'),\n",
    "        ('Jr.', 'Junior'),\n",
    "        ('Jr', 'Junior'),\n",
    "        ('CEO', 'Chief Executive Officer'),\n",
    "        ('COO', 'Chief Operating Officer'),\n",
    "        ('CTO', 'Chief Technology Officer'),\n",
    "        ('CFO', 'Chief Finance Officer'),\n",
    "        ('VP', 'Vice President'),\n",
    "        ]\n",
    "\n",
    "    separators = ['/', 'and', '&']\n",
    "\n",
    "    csvReader = csv.DictReader(open(csv_file), delimiter=',', quotechar='\"')\n",
    "    contacts = [row for row in csvReader]\n",
    "\n",
    "    # Normalize and/or replace known abbreviations\n",
    "    # and build up a list of common titles.\n",
    "\n",
    "    all_titles = []\n",
    "    for i, _ in enumerate(contacts):\n",
    "        if contacts[i]['Position'] == '':\n",
    "            contacts[i]['Position'] = ['']\n",
    "            continue\n",
    "        titles = [contacts[i]['Position']]\n",
    "        \n",
    "        for title in titles:\n",
    "            for separator in separators:\n",
    "                if title.find(separator) >= 0:\n",
    "                    titles.remove(title)\n",
    "                    titles.extend([title.strip() for title in title.split(separator)\n",
    "                                  if title.strip() != ''])\n",
    "\n",
    "        for transform in transforms:\n",
    "            titles = [title.replace(*transform) for title in titles]\n",
    "        contacts[i]['Position'] = titles\n",
    "        all_titles.extend(titles)\n",
    "\n",
    "    all_titles = list(set(all_titles))\n",
    "\n",
    "    clusters = {}\n",
    "    for title1 in all_titles:\n",
    "        clusters[title1] = []\n",
    "        for title2 in all_titles:\n",
    "            if title2 in clusters[title1] or title2 in clusters and title1 in clusters[title2]:\n",
    "                continue\n",
    "            distance = DISTANCE(set(title1.split()), set(title2.split()))\n",
    "\n",
    "            if distance < DISTANCE_THRESHOLD:\n",
    "                clusters[title1].append(title2)\n",
    "\n",
    "    # Flatten out clusters\n",
    "\n",
    "    clusters = [clusters[title] for title in clusters if len(clusters[title]) > 1]\n",
    "\n",
    "    # Round up contacts who are in these clusters and group them together\n",
    "\n",
    "    clustered_contacts = {}\n",
    "    for cluster in clusters:\n",
    "        clustered_contacts[tuple(cluster)] = []\n",
    "        for contact in contacts:\n",
    "            for title in contact['Position']:\n",
    "                if title in cluster:\n",
    "                    clustered_contacts[tuple(cluster)].append('%s %s'\n",
    "                            % (contact['First Name'], contact['Last Name']))\n",
    "\n",
    "    return clustered_contacts"
   ]
  },
  {
   "cell_type": "code",
   "execution_count": 24,
   "metadata": {
    "colab": {
     "base_uri": "https://localhost:8080/",
     "height": 231
    },
    "id": "2B5vmUabAhBA",
    "outputId": "336f7f33-4d9d-43c8-c762-35f4333cfae3"
   },
   "outputs": [
    {
     "name": "stdout",
     "output_type": "stream",
     "text": [
      "{('Data Science Intern', 'Data Science'): ['Malleeswari G', 'Mahalakshmi S', 'Deepak R', 'Mohamed Sahim', 'Reshma R S'], ('Business Analytics', 'Business Analytics Intern'): ['Mohamed Sahim', 'Reshma R S']}\n",
      "\n",
      "Descriptive Terms: Science, Data\n",
      "------------------------------------------------\n",
      "Malleeswari G\n",
      "Mahalakshmi S\n",
      "Deepak R\n",
      "Mohamed Sahim\n",
      "Reshma R S\n",
      "\n",
      "Descriptive Terms: Analytics, Business\n",
      "------------------------------------------------------------\n",
      "Mohamed Sahim\n",
      "Reshma R S\n",
      "\n"
     ]
    }
   ],
   "source": [
    "clustered_contacts = cluster_contacts_by_title(CSV_FILE)\n",
    "print(clustered_contacts)\n",
    "print()\n",
    "for titles in clustered_contacts:\n",
    "    common_titles_heading = 'Common Titles: ' + ', '.join(titles)\n",
    "\n",
    "    descriptive_terms = set(titles[0].split())\n",
    "    for title in titles:\n",
    "        descriptive_terms.intersection_update(set(title.split()))\n",
    "    descriptive_terms_heading = 'Descriptive Terms: ' \\\n",
    "        + ', '.join(descriptive_terms)\n",
    "    print(descriptive_terms_heading)\n",
    "    print('-' * max(len(descriptive_terms_heading), len(common_titles_heading)))\n",
    "    print('\\n'.join(clustered_contacts[titles]))\n",
    "    print()"
   ]
  },
  {
   "cell_type": "code",
   "execution_count": null,
   "metadata": {},
   "outputs": [],
   "source": []
  }
 ],
 "metadata": {
  "colab": {
   "name": "sma_lab10_hariharasudhan_12 (1).ipynb",
   "provenance": []
  },
  "kernelspec": {
   "display_name": "Python 3",
   "language": "python",
   "name": "python3"
  },
  "language_info": {
   "codemirror_mode": {
    "name": "ipython",
    "version": 3
   },
   "file_extension": ".py",
   "mimetype": "text/x-python",
   "name": "python",
   "nbconvert_exporter": "python",
   "pygments_lexer": "ipython3",
   "version": "3.9.1"
  }
 },
 "nbformat": 4,
 "nbformat_minor": 1
}
