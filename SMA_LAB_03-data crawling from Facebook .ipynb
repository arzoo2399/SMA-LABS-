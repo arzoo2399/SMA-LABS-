{
 "cells": [
  {
   "cell_type": "code",
   "execution_count": 6,
   "metadata": {
    "id": "rfC7mdBetztJ"
   },
   "outputs": [],
   "source": [
    "ACCESS_TOKEN ='EAAFXL20yzJwBAHOEjeq2xmjGOMjUc61ZA025p8DAntPTmzDT0hKOHeCCZB1P61A3aMOe5YA9GHy1ElYQWR3Fiu4G1aw6tqQgrt7w9QCcREULZAJFC8sQCQZA8bFRaPs6ixBlZCB3baSIEbDPhFUWZCzsZBhsMGp2XTGa2Ha7rVXJMqv6zMyuLj9Nw6NeZCILJ9YS0sCNU95xvZCTCUZAVxU3vQK9EAOQburiWLmZBHo8GiQNblCZArhC7aigzkAGnZCHxo3UZD'"
   ]
  },
  {
   "cell_type": "code",
   "execution_count": 2,
   "metadata": {
    "colab": {
     "base_uri": "https://localhost:8080/"
    },
    "id": "a6MiJYzx98pU",
    "outputId": "52ee6d63-c452-475c-a9ae-f4a5055eccaa"
   },
   "outputs": [
    {
     "name": "stdout",
     "output_type": "stream",
     "text": [
      "Collecting facebook-sdk\n",
      "  Downloading facebook_sdk-3.1.0-py2.py3-none-any.whl (7.5 kB)\n",
      "Requirement already satisfied: requests in /usr/local/lib/python3.7/dist-packages (from facebook-sdk) (2.23.0)\n",
      "Requirement already satisfied: chardet<4,>=3.0.2 in /usr/local/lib/python3.7/dist-packages (from requests->facebook-sdk) (3.0.4)\n",
      "Requirement already satisfied: idna<3,>=2.5 in /usr/local/lib/python3.7/dist-packages (from requests->facebook-sdk) (2.10)\n",
      "Requirement already satisfied: certifi>=2017.4.17 in /usr/local/lib/python3.7/dist-packages (from requests->facebook-sdk) (2021.5.30)\n",
      "Requirement already satisfied: urllib3!=1.25.0,!=1.25.1,<1.26,>=1.21.1 in /usr/local/lib/python3.7/dist-packages (from requests->facebook-sdk) (1.24.3)\n",
      "Installing collected packages: facebook-sdk\n",
      "Successfully installed facebook-sdk-3.1.0\n"
     ]
    }
   ],
   "source": [
    "!pip3 install facebook-sdk"
   ]
  },
  {
   "cell_type": "code",
   "execution_count": 7,
   "metadata": {
    "id": "O0qIcavg9md3"
   },
   "outputs": [],
   "source": [
    "import facebook\n",
    "import urllib3\n",
    "import requests\n",
    "import json"
   ]
  },
  {
   "cell_type": "code",
   "execution_count": 8,
   "metadata": {
    "colab": {
     "base_uri": "https://localhost:8080/"
    },
    "id": "U37-eG749pYu",
    "outputId": "6f3ea2ea-1dd2-416b-f5af-d6c6694cfc23"
   },
   "outputs": [
    {
     "name": "stdout",
     "output_type": "stream",
     "text": [
      "{\n",
      " \"name\": \"Ridhi Garg\",\n",
      " \"id\": \"104301155318156\"\n",
      "}\n"
     ]
    }
   ],
   "source": [
    "def pp(o):\n",
    "    print(json.dumps(o, indent=1))\n",
    "    \n",
    "g = facebook.GraphAPI(ACCESS_TOKEN, version='2.10')\n",
    "\n",
    "pp(g.get_object('me'))"
   ]
  },
  {
   "cell_type": "code",
   "execution_count": 9,
   "metadata": {
    "colab": {
     "base_uri": "https://localhost:8080/"
    },
    "id": "uhH3_GwY-1Pb",
    "outputId": "7e6ba067-d2a9-4b71-ed9c-48570d38431b"
   },
   "outputs": [
    {
     "name": "stdout",
     "output_type": "stream",
     "text": [
      "{\n",
      " \"data\": []\n",
      "}\n",
      "{\n",
      " \"data\": []\n",
      "}\n",
      "{\n",
      " \"data\": []\n",
      "}\n",
      "{\n",
      " \"data\": []\n",
      "}\n"
     ]
    }
   ],
   "source": [
    "pp(g.get_connections(id='me', connection_name='likes'))\n",
    "pp(g.get_connections(id='me', connection_name='friends'))\n",
    "pp(g.get_connections(id='me', connection_name='feed'))\n",
    "pp(g.get_connections(id='me', connection_name='groups'))"
   ]
  }
 ],
 "metadata": {
  "colab": {
   "collapsed_sections": [],
   "name": "SMA_LAB_03.ipynb",
   "provenance": []
  },
  "kernelspec": {
   "display_name": "Python 3",
   "language": "python",
   "name": "python3"
  },
  "language_info": {
   "codemirror_mode": {
    "name": "ipython",
    "version": 3
   },
   "file_extension": ".py",
   "mimetype": "text/x-python",
   "name": "python",
   "nbconvert_exporter": "python",
   "pygments_lexer": "ipython3",
   "version": "3.9.1"
  }
 },
 "nbformat": 4,
 "nbformat_minor": 1
}
