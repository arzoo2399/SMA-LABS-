{
 "cells": [
  {
   "cell_type": "markdown",
   "metadata": {
    "id": "_hZD8WuKKj8c"
   },
   "source": [
    "# <center>SMA LAB 14. Creating a Tweet Sentiment Analyser App using Streamlit and Heroku</center>\n",
    "\n",
    "### 205229103\n",
    "\n",
    "### Arzoo Sah"
   ]
  },
  {
   "cell_type": "code",
   "execution_count": 1,
   "metadata": {},
   "outputs": [
    {
     "name": "stdout",
     "output_type": "stream",
     "text": [
      "Requirement already satisfied: tweepy in c:\\users\\arzoo sah\\anaconda3\\envs\\notebook\\lib\\site-packages (4.2.0)\n",
      "Requirement already satisfied: requests<3,>=2.11.1 in c:\\users\\arzoo sah\\anaconda3\\envs\\notebook\\lib\\site-packages (from tweepy) (2.25.1)\n",
      "Requirement already satisfied: requests-oauthlib<2,>=1.0.0 in c:\\users\\arzoo sah\\anaconda3\\envs\\notebook\\lib\\site-packages (from tweepy) (1.3.0)\n",
      "Requirement already satisfied: certifi>=2017.4.17 in c:\\users\\arzoo sah\\anaconda3\\envs\\notebook\\lib\\site-packages (from requests<3,>=2.11.1->tweepy) (2020.12.5)\n",
      "Requirement already satisfied: chardet<5,>=3.0.2 in c:\\users\\arzoo sah\\anaconda3\\envs\\notebook\\lib\\site-packages (from requests<3,>=2.11.1->tweepy) (4.0.0)\n",
      "Requirement already satisfied: urllib3<1.27,>=1.21.1 in c:\\users\\arzoo sah\\anaconda3\\envs\\notebook\\lib\\site-packages (from requests<3,>=2.11.1->tweepy) (1.26.3)\n",
      "Requirement already satisfied: idna<3,>=2.5 in c:\\users\\arzoo sah\\anaconda3\\envs\\notebook\\lib\\site-packages (from requests<3,>=2.11.1->tweepy) (2.10)\n",
      "Requirement already satisfied: oauthlib>=3.0.0 in c:\\users\\arzoo sah\\anaconda3\\envs\\notebook\\lib\\site-packages (from requests-oauthlib<2,>=1.0.0->tweepy) (3.1.1)\n"
     ]
    }
   ],
   "source": [
    "!pip3 install tweepy"
   ]
  },
  {
   "cell_type": "code",
   "execution_count": 2,
   "metadata": {},
   "outputs": [
    {
     "name": "stdout",
     "output_type": "stream",
     "text": [
      "Requirement already satisfied: textblob in c:\\users\\arzoo sah\\anaconda3\\envs\\notebook\\lib\\site-packages (0.17.1)\n",
      "Requirement already satisfied: nltk>=3.1 in c:\\users\\arzoo sah\\anaconda3\\envs\\notebook\\lib\\site-packages (from textblob) (3.5)\n",
      "Requirement already satisfied: click in c:\\users\\arzoo sah\\anaconda3\\envs\\notebook\\lib\\site-packages (from nltk>=3.1->textblob) (7.1.2)\n",
      "Requirement already satisfied: regex in c:\\users\\arzoo sah\\anaconda3\\envs\\notebook\\lib\\site-packages (from nltk>=3.1->textblob) (2020.11.13)\n",
      "Requirement already satisfied: joblib in c:\\users\\arzoo sah\\anaconda3\\envs\\notebook\\lib\\site-packages (from nltk>=3.1->textblob) (1.0.1)\n",
      "Requirement already satisfied: tqdm in c:\\users\\arzoo sah\\anaconda3\\envs\\notebook\\lib\\site-packages (from nltk>=3.1->textblob) (4.59.0)\n"
     ]
    }
   ],
   "source": [
    "!pip3 install textblob"
   ]
  },
  {
   "cell_type": "code",
   "execution_count": 3,
   "metadata": {},
   "outputs": [],
   "source": [
    "import tweepy\n",
    "from textblob import TextBlob\n",
    "#from wordcloud import WordCloud"
   ]
  },
  {
   "cell_type": "code",
   "execution_count": 5,
   "metadata": {
    "id": "itNkJhhw4rXd"
   },
   "outputs": [],
   "source": [
    "import pandas as pd\n",
    "import numpy as np\n",
    "import re\n",
    "import matplotlib.pyplot as plt\n",
    "plt.style.use('fivethirtyeight')"
   ]
  },
  {
   "cell_type": "markdown",
   "metadata": {
    "id": "mS6G7ghQJbpM"
   },
   "source": [
    "**1. Access the Twitter API by the use of your credentials**"
   ]
  },
  {
   "cell_type": "code",
   "execution_count": 6,
   "metadata": {
    "id": "BtR2SkRH4xRt"
   },
   "outputs": [],
   "source": [
    "cust_key = '3SkMyI19ovrhj0lcjhI092HmU'\n",
    "cust_secert_key = 'ZVjH54nsOpZBEoNqVW6jvLEs6G3Gxh9hH3pDO4L3In161EPrHB'\n",
    "accessToken = '1426158167109505032-q83d5qYOw0jMyKDsGANRUnpiYdhoc0'\n",
    "accessTokenSecert = 'd39VWsSEduOJAHRFx2AxQlR9ypWh7NtV80uHW0AdL3wex'"
   ]
  },
  {
   "cell_type": "code",
   "execution_count": 9,
   "metadata": {
    "id": "xJWMJ2KKAf5p"
   },
   "outputs": [],
   "source": [
    "authenticate = tweepy.OAuthHandler(cust_key, cust_secert_key) \n",
    "    \n",
    "# Set the access token and access token secret\n",
    "authenticate.set_access_token(accessToken, accessTokenSecert) \n",
    "    \n",
    "# Creating the API object while passing in auth information\n",
    "api = tweepy.API(authenticate, wait_on_rate_limit = True)"
   ]
  },
  {
   "cell_type": "markdown",
   "metadata": {
    "id": "0UjWgBSEJYUW"
   },
   "source": [
    "**2. Collect recent tweets of a username**"
   ]
  },
  {
   "cell_type": "code",
   "execution_count": 10,
   "metadata": {
    "colab": {
     "base_uri": "https://localhost:8080/"
    },
    "id": "WnW_zI59--Mi",
    "outputId": "a093c079-057e-423c-b89e-b7acb71f9d0a"
   },
   "outputs": [
    {
     "name": "stderr",
     "output_type": "stream",
     "text": [
      "Unexpected parameter: lang\n"
     ]
    },
    {
     "name": "stdout",
     "output_type": "stream",
     "text": [
      "Show the 5 recent tweets:\n",
      "\n",
      "1) RT @VWOfficial: Photos: Vanessa Williams Visits CHICKEN AND BISCUITS on Broadway  https://t.co/S6Gajra3By\n",
      "\n",
      "2) RT @Lin_Manuel: Truly have not laughed so hard in the theater in ages. BRAVO @DouglasSings, BRAVO to the incredible company of @ChickenBway…\n",
      "\n",
      "3) I’m so shook. I cannot imagine what everyone involved in this tragedy is feeling. There are no words. No one should die on a film set. Period. My heart goes out to Halyna Hutchins family and everyone who knew her. 💔 https://t.co/C6fxT8kyir\n",
      "\n",
      "4) Happy birthday Tisha 💕\n",
      "Sending so much love. @ParineetiChopra https://t.co/7BDv9cP2Qi\n",
      "\n",
      "5) RT @mindykaling: Dodging that bullet https://t.co/P7tz3HNr65\n",
      "\n"
     ]
    }
   ],
   "source": [
    "posts = api.user_timeline(screen_name=\"priyankachopra\", count = 100, lang =\"en\", tweet_mode=\"extended\")\n",
    "\n",
    "#Print the last 5 tweets\n",
    "\n",
    "print(\"Show the 5 recent tweets:\\n\")\n",
    "i=1\n",
    "for tweet in posts[:5]:\n",
    "    print(str(i) +') '+ tweet.full_text + '\\n')\n",
    "    i= i+1"
   ]
  },
  {
   "cell_type": "code",
   "execution_count": 11,
   "metadata": {
    "colab": {
     "base_uri": "https://localhost:8080/",
     "height": 203
    },
    "id": "-CRs773KAI2O",
    "outputId": "b7b379ec-2486-4d03-fab3-05b88214d90b"
   },
   "outputs": [
    {
     "data": {
      "text/html": [
       "<div>\n",
       "<style scoped>\n",
       "    .dataframe tbody tr th:only-of-type {\n",
       "        vertical-align: middle;\n",
       "    }\n",
       "\n",
       "    .dataframe tbody tr th {\n",
       "        vertical-align: top;\n",
       "    }\n",
       "\n",
       "    .dataframe thead th {\n",
       "        text-align: right;\n",
       "    }\n",
       "</style>\n",
       "<table border=\"1\" class=\"dataframe\">\n",
       "  <thead>\n",
       "    <tr style=\"text-align: right;\">\n",
       "      <th></th>\n",
       "      <th>Tweets</th>\n",
       "    </tr>\n",
       "  </thead>\n",
       "  <tbody>\n",
       "    <tr>\n",
       "      <th>0</th>\n",
       "      <td>RT @VWOfficial: Photos: Vanessa Williams Visit...</td>\n",
       "    </tr>\n",
       "    <tr>\n",
       "      <th>1</th>\n",
       "      <td>RT @Lin_Manuel: Truly have not laughed so hard...</td>\n",
       "    </tr>\n",
       "    <tr>\n",
       "      <th>2</th>\n",
       "      <td>I’m so shook. I cannot imagine what everyone i...</td>\n",
       "    </tr>\n",
       "    <tr>\n",
       "      <th>3</th>\n",
       "      <td>Happy birthday Tisha 💕\\nSending so much love. ...</td>\n",
       "    </tr>\n",
       "    <tr>\n",
       "      <th>4</th>\n",
       "      <td>RT @mindykaling: Dodging that bullet https://t...</td>\n",
       "    </tr>\n",
       "  </tbody>\n",
       "</table>\n",
       "</div>"
      ],
      "text/plain": [
       "                                              Tweets\n",
       "0  RT @VWOfficial: Photos: Vanessa Williams Visit...\n",
       "1  RT @Lin_Manuel: Truly have not laughed so hard...\n",
       "2  I’m so shook. I cannot imagine what everyone i...\n",
       "3  Happy birthday Tisha 💕\\nSending so much love. ...\n",
       "4  RT @mindykaling: Dodging that bullet https://t..."
      ]
     },
     "execution_count": 11,
     "metadata": {},
     "output_type": "execute_result"
    }
   ],
   "source": [
    "df = pd.DataFrame([tweet.full_text for tweet in posts], columns=['Tweets'])\n",
    "df.head()"
   ]
  },
  {
   "cell_type": "markdown",
   "metadata": {
    "id": "hdA8KLJNJR3D"
   },
   "source": [
    "**3. Perform preprocessing steps on the collected tweets**"
   ]
  },
  {
   "cell_type": "code",
   "execution_count": 12,
   "metadata": {
    "id": "LKVjWHbOBAig"
   },
   "outputs": [],
   "source": [
    "def remove_special(text):\n",
    "    text = re.sub('@[A-Za-z0–9]+','', text) \n",
    "    text = re.sub('#','', text) \n",
    "    text = re.sub('RT[\\s]+','', text) \n",
    "    text = re.sub('https?:\\/\\/\\S+','', text) \n",
    "    return text         "
   ]
  },
  {
   "cell_type": "code",
   "execution_count": 13,
   "metadata": {
    "id": "PNCkjAAOCO_K"
   },
   "outputs": [],
   "source": [
    "df['Tweets'] = df['Tweets'].apply(lambda x:remove_special(x))"
   ]
  },
  {
   "cell_type": "code",
   "execution_count": 14,
   "metadata": {
    "colab": {
     "base_uri": "https://localhost:8080/",
     "height": 203
    },
    "id": "pnRzLRwFCbnM",
    "outputId": "3d1d2c4f-617f-4399-89cf-b45fe61645f9"
   },
   "outputs": [
    {
     "data": {
      "text/html": [
       "<div>\n",
       "<style scoped>\n",
       "    .dataframe tbody tr th:only-of-type {\n",
       "        vertical-align: middle;\n",
       "    }\n",
       "\n",
       "    .dataframe tbody tr th {\n",
       "        vertical-align: top;\n",
       "    }\n",
       "\n",
       "    .dataframe thead th {\n",
       "        text-align: right;\n",
       "    }\n",
       "</style>\n",
       "<table border=\"1\" class=\"dataframe\">\n",
       "  <thead>\n",
       "    <tr style=\"text-align: right;\">\n",
       "      <th></th>\n",
       "      <th>Tweets</th>\n",
       "    </tr>\n",
       "  </thead>\n",
       "  <tbody>\n",
       "    <tr>\n",
       "      <th>0</th>\n",
       "      <td>: Photos: Vanessa Williams Visits CHICKEN AND ...</td>\n",
       "    </tr>\n",
       "    <tr>\n",
       "      <th>1</th>\n",
       "      <td>_Manuel: Truly have not laughed so hard in the...</td>\n",
       "    </tr>\n",
       "    <tr>\n",
       "      <th>2</th>\n",
       "      <td>I’m so shook. I cannot imagine what everyone i...</td>\n",
       "    </tr>\n",
       "    <tr>\n",
       "      <th>3</th>\n",
       "      <td>Happy birthday Tisha 💕\\nSending so much love.</td>\n",
       "    </tr>\n",
       "    <tr>\n",
       "      <th>4</th>\n",
       "      <td>: Dodging that bullet</td>\n",
       "    </tr>\n",
       "  </tbody>\n",
       "</table>\n",
       "</div>"
      ],
      "text/plain": [
       "                                              Tweets\n",
       "0  : Photos: Vanessa Williams Visits CHICKEN AND ...\n",
       "1  _Manuel: Truly have not laughed so hard in the...\n",
       "2  I’m so shook. I cannot imagine what everyone i...\n",
       "3    Happy birthday Tisha 💕\\nSending so much love.  \n",
       "4                             : Dodging that bullet "
      ]
     },
     "execution_count": 14,
     "metadata": {},
     "output_type": "execute_result"
    }
   ],
   "source": [
    "df.head()"
   ]
  },
  {
   "cell_type": "markdown",
   "metadata": {
    "id": "R6GE22t2JKZu"
   },
   "source": [
    "**4. Create Word Cloud and perform sentiment analysis**"
   ]
  },
  {
   "cell_type": "code",
   "execution_count": null,
   "metadata": {
    "colab": {
     "base_uri": "https://localhost:8080/",
     "height": 256
    },
    "id": "k-8KsNLxDYR5",
    "outputId": "ffe19de3-8bcc-4312-ab52-c3e51fac3b02"
   },
   "outputs": [],
   "source": [
    "allWords = ' '.join([j for j in df['Tweets']])\n",
    "wordCloud = WordCloud(width=500, height=300, random_state=21, max_font_size=110).generate(allWords)\n",
    "\n",
    "plt.imshow(wordCloud, interpolation=\"bilinear\")\n",
    "plt.axis('off')\n",
    "plt.show()"
   ]
  },
  {
   "cell_type": "markdown",
   "metadata": {
    "id": "KVYYEJ2aJvmA"
   },
   "source": [
    "**5. Create an app with the above functions in the backend using Streamlit**"
   ]
  },
  {
   "cell_type": "code",
   "execution_count": 15,
   "metadata": {
    "id": "0WmPhUCXHQd6"
   },
   "outputs": [
    {
     "name": "stdout",
     "output_type": "stream",
     "text": [
      "Requirement already satisfied: streamlit in c:\\users\\arzoo sah\\anaconda3\\envs\\notebook\\lib\\site-packages (1.1.0)\n",
      "Requirement already satisfied: attrs in c:\\users\\arzoo sah\\anaconda3\\envs\\notebook\\lib\\site-packages (from streamlit) (20.3.0)\n",
      "Requirement already satisfied: pydeck>=0.1.dev5 in c:\\users\\arzoo sah\\anaconda3\\envs\\notebook\\lib\\site-packages (from streamlit) (0.7.1)\n",
      "Requirement already satisfied: watchdog in c:\\users\\arzoo sah\\anaconda3\\envs\\notebook\\lib\\site-packages (from streamlit) (2.1.6)\n",
      "Requirement already satisfied: cachetools>=4.0 in c:\\users\\arzoo sah\\anaconda3\\envs\\notebook\\lib\\site-packages (from streamlit) (4.2.2)\n",
      "Requirement already satisfied: astor in c:\\users\\arzoo sah\\anaconda3\\envs\\notebook\\lib\\site-packages (from streamlit) (0.8.1)\n",
      "Requirement already satisfied: tornado>=5.0 in c:\\users\\arzoo sah\\anaconda3\\envs\\notebook\\lib\\site-packages (from streamlit) (6.1)\n",
      "Requirement already satisfied: validators in c:\\users\\arzoo sah\\anaconda3\\envs\\notebook\\lib\\site-packages (from streamlit) (0.18.2)\n",
      "Requirement already satisfied: pandas>=0.21.0 in c:\\users\\arzoo sah\\anaconda3\\envs\\notebook\\lib\\site-packages (from streamlit) (1.2.3)\n",
      "Requirement already satisfied: requests in c:\\users\\arzoo sah\\anaconda3\\envs\\notebook\\lib\\site-packages (from streamlit) (2.25.1)\n",
      "Requirement already satisfied: altair>=3.2.0 in c:\\users\\arzoo sah\\anaconda3\\envs\\notebook\\lib\\site-packages (from streamlit) (4.1.0)\n",
      "Requirement already satisfied: protobuf!=3.11,>=3.6.0 in c:\\users\\arzoo sah\\anaconda3\\envs\\notebook\\lib\\site-packages (from streamlit) (3.17.3)\n",
      "Requirement already satisfied: packaging in c:\\users\\arzoo sah\\anaconda3\\envs\\notebook\\lib\\site-packages (from streamlit) (20.9)\n",
      "Requirement already satisfied: pyarrow in c:\\users\\arzoo sah\\anaconda3\\envs\\notebook\\lib\\site-packages (from streamlit) (6.0.0)\n",
      "Requirement already satisfied: tzlocal in c:\\users\\arzoo sah\\anaconda3\\envs\\notebook\\lib\\site-packages (from streamlit) (4.1)\n",
      "Requirement already satisfied: toml in c:\\users\\arzoo sah\\anaconda3\\envs\\notebook\\lib\\site-packages (from streamlit) (0.10.2)\n",
      "Requirement already satisfied: blinker in c:\\users\\arzoo sah\\anaconda3\\envs\\notebook\\lib\\site-packages (from streamlit) (1.4)\n",
      "Requirement already satisfied: gitpython!=3.1.19 in c:\\users\\arzoo sah\\anaconda3\\envs\\notebook\\lib\\site-packages (from streamlit) (3.1.24)\n",
      "Requirement already satisfied: pillow>=6.2.0 in c:\\users\\arzoo sah\\anaconda3\\envs\\notebook\\lib\\site-packages (from streamlit) (8.1.2)\n",
      "Requirement already satisfied: python-dateutil in c:\\users\\arzoo sah\\anaconda3\\envs\\notebook\\lib\\site-packages (from streamlit) (2.8.1)\n",
      "Requirement already satisfied: base58 in c:\\users\\arzoo sah\\anaconda3\\envs\\notebook\\lib\\site-packages (from streamlit) (2.1.1)\n",
      "Requirement already satisfied: click<8.0,>=7.0 in c:\\users\\arzoo sah\\anaconda3\\envs\\notebook\\lib\\site-packages (from streamlit) (7.1.2)\n",
      "Requirement already satisfied: numpy in c:\\users\\arzoo sah\\anaconda3\\envs\\notebook\\lib\\site-packages (from streamlit) (1.19.5)\n",
      "Requirement already satisfied: jsonschema in c:\\users\\arzoo sah\\anaconda3\\envs\\notebook\\lib\\site-packages (from altair>=3.2.0->streamlit) (3.2.0)\n",
      "Requirement already satisfied: entrypoints in c:\\users\\arzoo sah\\anaconda3\\envs\\notebook\\lib\\site-packages (from altair>=3.2.0->streamlit) (0.3)\n",
      "Requirement already satisfied: toolz in c:\\users\\arzoo sah\\anaconda3\\envs\\notebook\\lib\\site-packages (from altair>=3.2.0->streamlit) (0.11.1)\n",
      "Requirement already satisfied: jinja2 in c:\\users\\arzoo sah\\anaconda3\\envs\\notebook\\lib\\site-packages (from altair>=3.2.0->streamlit) (2.11.3)\n",
      "Requirement already satisfied: gitdb<5,>=4.0.1 in c:\\users\\arzoo sah\\anaconda3\\envs\\notebook\\lib\\site-packages (from gitpython!=3.1.19->streamlit) (4.0.9)\n",
      "Requirement already satisfied: typing-extensions>=3.7.4.3 in c:\\users\\arzoo sah\\anaconda3\\envs\\notebook\\lib\\site-packages (from gitpython!=3.1.19->streamlit) (3.7.4.3)\n",
      "Requirement already satisfied: smmap<6,>=3.0.1 in c:\\users\\arzoo sah\\anaconda3\\envs\\notebook\\lib\\site-packages (from gitdb<5,>=4.0.1->gitpython!=3.1.19->streamlit) (5.0.0)\n",
      "Requirement already satisfied: pytz>=2017.3 in c:\\users\\arzoo sah\\anaconda3\\envs\\notebook\\lib\\site-packages (from pandas>=0.21.0->streamlit) (2021.1)\n",
      "Requirement already satisfied: six>=1.9 in c:\\users\\arzoo sah\\anaconda3\\envs\\notebook\\lib\\site-packages (from protobuf!=3.11,>=3.6.0->streamlit) (1.15.0)\n",
      "Requirement already satisfied: ipywidgets>=7.0.0 in c:\\users\\arzoo sah\\anaconda3\\envs\\notebook\\lib\\site-packages (from pydeck>=0.1.dev5->streamlit) (7.6.5)\n",
      "Requirement already satisfied: traitlets>=4.3.2 in c:\\users\\arzoo sah\\anaconda3\\envs\\notebook\\lib\\site-packages (from pydeck>=0.1.dev5->streamlit) (5.0.5)\n",
      "Requirement already satisfied: ipykernel>=5.1.2 in c:\\users\\arzoo sah\\anaconda3\\envs\\notebook\\lib\\site-packages (from pydeck>=0.1.dev5->streamlit) (5.3.4)\n",
      "Requirement already satisfied: jupyter-client in c:\\users\\arzoo sah\\anaconda3\\envs\\notebook\\lib\\site-packages (from ipykernel>=5.1.2->pydeck>=0.1.dev5->streamlit) (6.1.7)\n",
      "Requirement already satisfied: ipython>=5.0.0 in c:\\users\\arzoo sah\\anaconda3\\envs\\notebook\\lib\\site-packages (from ipykernel>=5.1.2->pydeck>=0.1.dev5->streamlit) (7.20.0)\n",
      "Requirement already satisfied: decorator in c:\\users\\arzoo sah\\anaconda3\\envs\\notebook\\lib\\site-packages (from ipython>=5.0.0->ipykernel>=5.1.2->pydeck>=0.1.dev5->streamlit) (4.4.2)\n",
      "Requirement already satisfied: prompt-toolkit!=3.0.0,!=3.0.1,<3.1.0,>=2.0.0 in c:\\users\\arzoo sah\\anaconda3\\envs\\notebook\\lib\\site-packages (from ipython>=5.0.0->ipykernel>=5.1.2->pydeck>=0.1.dev5->streamlit) (3.0.8)\n",
      "Requirement already satisfied: setuptools>=18.5 in c:\\users\\arzoo sah\\anaconda3\\envs\\notebook\\lib\\site-packages (from ipython>=5.0.0->ipykernel>=5.1.2->pydeck>=0.1.dev5->streamlit) (52.0.0.post20210125)\n",
      "Requirement already satisfied: jedi>=0.16 in c:\\users\\arzoo sah\\anaconda3\\envs\\notebook\\lib\\site-packages (from ipython>=5.0.0->ipykernel>=5.1.2->pydeck>=0.1.dev5->streamlit) (0.17.2)\n",
      "Requirement already satisfied: colorama in c:\\users\\arzoo sah\\anaconda3\\envs\\notebook\\lib\\site-packages (from ipython>=5.0.0->ipykernel>=5.1.2->pydeck>=0.1.dev5->streamlit) (0.4.4)\n",
      "Requirement already satisfied: pygments in c:\\users\\arzoo sah\\anaconda3\\envs\\notebook\\lib\\site-packages (from ipython>=5.0.0->ipykernel>=5.1.2->pydeck>=0.1.dev5->streamlit) (2.8.0)\n",
      "Requirement already satisfied: pickleshare in c:\\users\\arzoo sah\\anaconda3\\envs\\notebook\\lib\\site-packages (from ipython>=5.0.0->ipykernel>=5.1.2->pydeck>=0.1.dev5->streamlit) (0.7.5)\n",
      "Requirement already satisfied: backcall in c:\\users\\arzoo sah\\anaconda3\\envs\\notebook\\lib\\site-packages (from ipython>=5.0.0->ipykernel>=5.1.2->pydeck>=0.1.dev5->streamlit) (0.2.0)\n",
      "Requirement already satisfied: ipython-genutils~=0.2.0 in c:\\users\\arzoo sah\\anaconda3\\envs\\notebook\\lib\\site-packages (from ipywidgets>=7.0.0->pydeck>=0.1.dev5->streamlit) (0.2.0)\n",
      "Requirement already satisfied: jupyterlab-widgets>=1.0.0 in c:\\users\\arzoo sah\\anaconda3\\envs\\notebook\\lib\\site-packages (from ipywidgets>=7.0.0->pydeck>=0.1.dev5->streamlit) (1.0.2)\n",
      "Requirement already satisfied: widgetsnbextension~=3.5.0 in c:\\users\\arzoo sah\\anaconda3\\envs\\notebook\\lib\\site-packages (from ipywidgets>=7.0.0->pydeck>=0.1.dev5->streamlit) (3.5.1)\n",
      "Requirement already satisfied: nbformat>=4.2.0 in c:\\users\\arzoo sah\\anaconda3\\envs\\notebook\\lib\\site-packages (from ipywidgets>=7.0.0->pydeck>=0.1.dev5->streamlit) (5.1.2)\n",
      "Requirement already satisfied: parso<0.8.0,>=0.7.0 in c:\\users\\arzoo sah\\anaconda3\\envs\\notebook\\lib\\site-packages (from jedi>=0.16->ipython>=5.0.0->ipykernel>=5.1.2->pydeck>=0.1.dev5->streamlit) (0.7.0)\n",
      "Requirement already satisfied: MarkupSafe>=0.23 in c:\\users\\arzoo sah\\anaconda3\\envs\\notebook\\lib\\site-packages (from jinja2->altair>=3.2.0->streamlit) (1.1.1)\n",
      "Requirement already satisfied: jupyter-core in c:\\users\\arzoo sah\\anaconda3\\envs\\notebook\\lib\\site-packages (from nbformat>=4.2.0->ipywidgets>=7.0.0->pydeck>=0.1.dev5->streamlit) (4.7.1)\n",
      "Requirement already satisfied: pyrsistent>=0.14.0 in c:\\users\\arzoo sah\\anaconda3\\envs\\notebook\\lib\\site-packages (from jsonschema->altair>=3.2.0->streamlit) (0.17.3)\n",
      "Requirement already satisfied: wcwidth in c:\\users\\arzoo sah\\anaconda3\\envs\\notebook\\lib\\site-packages (from prompt-toolkit!=3.0.0,!=3.0.1,<3.1.0,>=2.0.0->ipython>=5.0.0->ipykernel>=5.1.2->pydeck>=0.1.dev5->streamlit) (0.2.5)\n",
      "Requirement already satisfied: notebook>=4.4.1 in c:\\users\\arzoo sah\\anaconda3\\envs\\notebook\\lib\\site-packages (from widgetsnbextension~=3.5.0->ipywidgets>=7.0.0->pydeck>=0.1.dev5->streamlit) (6.1.6)\n",
      "Requirement already satisfied: Send2Trash in c:\\users\\arzoo sah\\anaconda3\\envs\\notebook\\lib\\site-packages (from notebook>=4.4.1->widgetsnbextension~=3.5.0->ipywidgets>=7.0.0->pydeck>=0.1.dev5->streamlit) (1.5.0)\n",
      "Requirement already satisfied: nbconvert in c:\\users\\arzoo sah\\anaconda3\\envs\\notebook\\lib\\site-packages (from notebook>=4.4.1->widgetsnbextension~=3.5.0->ipywidgets>=7.0.0->pydeck>=0.1.dev5->streamlit) (6.0.7)\n",
      "Requirement already satisfied: argon2-cffi in c:\\users\\arzoo sah\\anaconda3\\envs\\notebook\\lib\\site-packages (from notebook>=4.4.1->widgetsnbextension~=3.5.0->ipywidgets>=7.0.0->pydeck>=0.1.dev5->streamlit) (20.1.0)\n",
      "Requirement already satisfied: prometheus-client in c:\\users\\arzoo sah\\anaconda3\\envs\\notebook\\lib\\site-packages (from notebook>=4.4.1->widgetsnbextension~=3.5.0->ipywidgets>=7.0.0->pydeck>=0.1.dev5->streamlit) (0.9.0)\n",
      "Requirement already satisfied: terminado>=0.8.3 in c:\\users\\arzoo sah\\anaconda3\\envs\\notebook\\lib\\site-packages (from notebook>=4.4.1->widgetsnbextension~=3.5.0->ipywidgets>=7.0.0->pydeck>=0.1.dev5->streamlit) (0.9.2)\n",
      "Requirement already satisfied: pyzmq>=17 in c:\\users\\arzoo sah\\anaconda3\\envs\\notebook\\lib\\site-packages (from notebook>=4.4.1->widgetsnbextension~=3.5.0->ipywidgets>=7.0.0->pydeck>=0.1.dev5->streamlit) (20.0.0)\n",
      "Requirement already satisfied: pywin32>=1.0 in c:\\users\\arzoo sah\\anaconda3\\envs\\notebook\\lib\\site-packages (from jupyter-core->nbformat>=4.2.0->ipywidgets>=7.0.0->pydeck>=0.1.dev5->streamlit) (228)\n",
      "Requirement already satisfied: pywinpty>=0.5 in c:\\users\\arzoo sah\\anaconda3\\envs\\notebook\\lib\\site-packages (from terminado>=0.8.3->notebook>=4.4.1->widgetsnbextension~=3.5.0->ipywidgets>=7.0.0->pydeck>=0.1.dev5->streamlit) (0.5.7)\n",
      "Requirement already satisfied: cffi>=1.0.0 in c:\\users\\arzoo sah\\anaconda3\\envs\\notebook\\lib\\site-packages (from argon2-cffi->notebook>=4.4.1->widgetsnbextension~=3.5.0->ipywidgets>=7.0.0->pydeck>=0.1.dev5->streamlit) (1.14.5)\n",
      "Requirement already satisfied: pycparser in c:\\users\\arzoo sah\\anaconda3\\envs\\notebook\\lib\\site-packages (from cffi>=1.0.0->argon2-cffi->notebook>=4.4.1->widgetsnbextension~=3.5.0->ipywidgets>=7.0.0->pydeck>=0.1.dev5->streamlit) (2.20)\n",
      "Requirement already satisfied: bleach in c:\\users\\arzoo sah\\anaconda3\\envs\\notebook\\lib\\site-packages (from nbconvert->notebook>=4.4.1->widgetsnbextension~=3.5.0->ipywidgets>=7.0.0->pydeck>=0.1.dev5->streamlit) (3.3.0)\n",
      "Requirement already satisfied: testpath in c:\\users\\arzoo sah\\anaconda3\\envs\\notebook\\lib\\site-packages (from nbconvert->notebook>=4.4.1->widgetsnbextension~=3.5.0->ipywidgets>=7.0.0->pydeck>=0.1.dev5->streamlit) (0.4.4)\n",
      "Requirement already satisfied: mistune<2,>=0.8.1 in c:\\users\\arzoo sah\\anaconda3\\envs\\notebook\\lib\\site-packages (from nbconvert->notebook>=4.4.1->widgetsnbextension~=3.5.0->ipywidgets>=7.0.0->pydeck>=0.1.dev5->streamlit) (0.8.4)\n",
      "Requirement already satisfied: jupyterlab-pygments in c:\\users\\arzoo sah\\anaconda3\\envs\\notebook\\lib\\site-packages (from nbconvert->notebook>=4.4.1->widgetsnbextension~=3.5.0->ipywidgets>=7.0.0->pydeck>=0.1.dev5->streamlit) (0.1.2)\n",
      "Requirement already satisfied: pandocfilters>=1.4.1 in c:\\users\\arzoo sah\\anaconda3\\envs\\notebook\\lib\\site-packages (from nbconvert->notebook>=4.4.1->widgetsnbextension~=3.5.0->ipywidgets>=7.0.0->pydeck>=0.1.dev5->streamlit) (1.4.3)\n",
      "Requirement already satisfied: nbclient<0.6.0,>=0.5.0 in c:\\users\\arzoo sah\\anaconda3\\envs\\notebook\\lib\\site-packages (from nbconvert->notebook>=4.4.1->widgetsnbextension~=3.5.0->ipywidgets>=7.0.0->pydeck>=0.1.dev5->streamlit) (0.5.3)\n",
      "Requirement already satisfied: defusedxml in c:\\users\\arzoo sah\\anaconda3\\envs\\notebook\\lib\\site-packages (from nbconvert->notebook>=4.4.1->widgetsnbextension~=3.5.0->ipywidgets>=7.0.0->pydeck>=0.1.dev5->streamlit) (0.6.0)\n",
      "Requirement already satisfied: nest-asyncio in c:\\users\\arzoo sah\\anaconda3\\envs\\notebook\\lib\\site-packages (from nbclient<0.6.0,>=0.5.0->nbconvert->notebook>=4.4.1->widgetsnbextension~=3.5.0->ipywidgets>=7.0.0->pydeck>=0.1.dev5->streamlit) (1.5.1)\n",
      "Requirement already satisfied: async-generator in c:\\users\\arzoo sah\\anaconda3\\envs\\notebook\\lib\\site-packages (from nbclient<0.6.0,>=0.5.0->nbconvert->notebook>=4.4.1->widgetsnbextension~=3.5.0->ipywidgets>=7.0.0->pydeck>=0.1.dev5->streamlit) (1.10)\n",
      "Requirement already satisfied: webencodings in c:\\users\\arzoo sah\\anaconda3\\envs\\notebook\\lib\\site-packages (from bleach->nbconvert->notebook>=4.4.1->widgetsnbextension~=3.5.0->ipywidgets>=7.0.0->pydeck>=0.1.dev5->streamlit) (0.5.1)\n",
      "Requirement already satisfied: pyparsing>=2.0.2 in c:\\users\\arzoo sah\\anaconda3\\envs\\notebook\\lib\\site-packages (from packaging->streamlit) (2.4.7)\n",
      "Requirement already satisfied: chardet<5,>=3.0.2 in c:\\users\\arzoo sah\\anaconda3\\envs\\notebook\\lib\\site-packages (from requests->streamlit) (4.0.0)\n",
      "Requirement already satisfied: idna<3,>=2.5 in c:\\users\\arzoo sah\\anaconda3\\envs\\notebook\\lib\\site-packages (from requests->streamlit) (2.10)\n",
      "Requirement already satisfied: certifi>=2017.4.17 in c:\\users\\arzoo sah\\anaconda3\\envs\\notebook\\lib\\site-packages (from requests->streamlit) (2020.12.5)\n",
      "Requirement already satisfied: urllib3<1.27,>=1.21.1 in c:\\users\\arzoo sah\\anaconda3\\envs\\notebook\\lib\\site-packages (from requests->streamlit) (1.26.3)\n",
      "Requirement already satisfied: pytz-deprecation-shim in c:\\users\\arzoo sah\\anaconda3\\envs\\notebook\\lib\\site-packages (from tzlocal->streamlit) (0.1.0.post0)\n",
      "Requirement already satisfied: tzdata in c:\\users\\arzoo sah\\anaconda3\\envs\\notebook\\lib\\site-packages (from tzlocal->streamlit) (2021.5)\n"
     ]
    }
   ],
   "source": [
    "!pip install streamlit"
   ]
  },
  {
   "cell_type": "code",
   "execution_count": 16,
   "metadata": {},
   "outputs": [],
   "source": [
    "import streamlit as st "
   ]
  },
  {
   "cell_type": "markdown",
   "metadata": {
    "id": "6D58fifUJyAX"
   },
   "source": [
    "**6. Deploy the app with Heroku**"
   ]
  },
  {
   "cell_type": "code",
   "execution_count": null,
   "metadata": {
    "id": "QBz6FJJgJ085"
   },
   "outputs": [],
   "source": []
  }
 ],
 "metadata": {
  "colab": {
   "collapsed_sections": [],
   "name": "SMA LAB 14.ipynb",
   "provenance": []
  },
  "kernelspec": {
   "display_name": "Python 3",
   "language": "python",
   "name": "python3"
  },
  "language_info": {
   "codemirror_mode": {
    "name": "ipython",
    "version": 3
   },
   "file_extension": ".py",
   "mimetype": "text/x-python",
   "name": "python",
   "nbconvert_exporter": "python",
   "pygments_lexer": "ipython3",
   "version": "3.9.1"
  }
 },
 "nbformat": 4,
 "nbformat_minor": 1
}
